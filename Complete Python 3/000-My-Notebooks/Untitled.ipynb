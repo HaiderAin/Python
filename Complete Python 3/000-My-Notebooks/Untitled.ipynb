{
 "cells": [
  {
   "cell_type": "code",
   "execution_count": 1,
   "id": "98e690a1",
   "metadata": {},
   "outputs": [
    {
     "name": "stdout",
     "output_type": "stream",
     "text": [
      "welcome to python\n"
     ]
    }
   ],
   "source": [
    "print('welcome to python')"
   ]
  },
  {
   "cell_type": "code",
   "execution_count": 2,
   "id": "7284303c",
   "metadata": {},
   "outputs": [
    {
     "name": "stdout",
     "output_type": "stream",
     "text": [
      "welcome to forum's mall\n"
     ]
    }
   ],
   "source": [
    "print(\"welcome to forum's mall\")"
   ]
  },
  {
   "cell_type": "code",
   "execution_count": 5,
   "id": "6a5a9ad4",
   "metadata": {},
   "outputs": [],
   "source": [
    "sal=10000\n",
    "desig='dba'"
   ]
  },
  {
   "cell_type": "code",
   "execution_count": 4,
   "id": "6a76b54a",
   "metadata": {},
   "outputs": [
    {
     "name": "stdout",
     "output_type": "stream",
     "text": [
      "may salary is 10000\n"
     ]
    }
   ],
   "source": [
    "print('may salary is {}'.format(sal))"
   ]
  },
  {
   "cell_type": "code",
   "execution_count": 13,
   "id": "17b92f74",
   "metadata": {},
   "outputs": [
    {
     "name": "stdout",
     "output_type": "stream",
     "text": [
      "my designation is 10000 and my salary is dba\n"
     ]
    }
   ],
   "source": [
    "print('my designation is {} and my salary is {}'.format(sal,desig))"
   ]
  },
  {
   "cell_type": "code",
   "execution_count": 14,
   "id": "4ead805c",
   "metadata": {},
   "outputs": [
    {
     "name": "stdout",
     "output_type": "stream",
     "text": [
      "my designation is dba and my salary is 10000\n"
     ]
    }
   ],
   "source": [
    "print('my designation is {} and my salary is {}'.format(desig,sal))"
   ]
  },
  {
   "cell_type": "code",
   "execution_count": 15,
   "id": "1cb5011c",
   "metadata": {},
   "outputs": [
    {
     "name": "stdout",
     "output_type": "stream",
     "text": [
      "my designation is dba and my salary is 10000\n"
     ]
    }
   ],
   "source": [
    "print('my designation is {desig} and my salary is {sal}'.format(sal=sal,desig=desig))"
   ]
  },
  {
   "cell_type": "code",
   "execution_count": 16,
   "id": "d0dd62cf",
   "metadata": {},
   "outputs": [
    {
     "name": "stdout",
     "output_type": "stream",
     "text": [
      "my designation is dba and my salary is 10000\n"
     ]
    }
   ],
   "source": [
    "print(f'my designation is {desig} and my salary is {sal}')"
   ]
  },
  {
   "cell_type": "code",
   "execution_count": null,
   "id": "b55089a7",
   "metadata": {},
   "outputs": [],
   "source": []
  }
 ],
 "metadata": {
  "kernelspec": {
   "display_name": "Python 3",
   "language": "python",
   "name": "python3"
  },
  "language_info": {
   "codemirror_mode": {
    "name": "ipython",
    "version": 3
   },
   "file_extension": ".py",
   "mimetype": "text/x-python",
   "name": "python",
   "nbconvert_exporter": "python",
   "pygments_lexer": "ipython3",
   "version": "3.8.8"
  }
 },
 "nbformat": 4,
 "nbformat_minor": 5
}
