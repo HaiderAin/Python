{
 "cells": [
  {
   "cell_type": "markdown",
   "metadata": {},
   "source": [
    "___\n",
    "\n",
    "<a href='https://www.udemy.com/user/joseportilla/'><img src='../Pierian_Data_Logo.png'/></a>\n",
    "___\n",
    "<center><em>Content Copyright by Pierian Data</em></center>"
   ]
  },
  {
   "cell_type": "markdown",
   "metadata": {
    "collapsed": true
   },
   "source": [
    "# while Loops\n",
    "\n",
    "The <code>while</code> statement in Python is one of most general ways to perform iteration. A <code>while</code> statement will repeatedly execute a single statement or group of statements as long as the condition is true. The reason it is called a 'loop' is because the code statements are looped through over and over again until the condition is no longer met.\n",
    "\n",
    "The general format of a while loop is:\n",
    "\n",
    "    while test:\n",
    "        code statements\n",
    "    else:\n",
    "        final code statements\n",
    "\n",
    "Let’s look at a few simple <code>while</code> loops in action. "
   ]
  },
  {
   "cell_type": "code",
   "execution_count": 1,
   "metadata": {},
   "outputs": [
    {
     "name": "stdout",
     "output_type": "stream",
     "text": [
      "x is currently:  0\n",
      " x is still less than 10, adding 1 to x\n",
      "x is currently:  1\n",
      " x is still less than 10, adding 1 to x\n",
      "x is currently:  2\n",
      " x is still less than 10, adding 1 to x\n",
      "x is currently:  3\n",
      " x is still less than 10, adding 1 to x\n",
      "x is currently:  4\n",
      " x is still less than 10, adding 1 to x\n",
      "x is currently:  5\n",
      " x is still less than 10, adding 1 to x\n",
      "x is currently:  6\n",
      " x is still less than 10, adding 1 to x\n",
      "x is currently:  7\n",
      " x is still less than 10, adding 1 to x\n",
      "x is currently:  8\n",
      " x is still less than 10, adding 1 to x\n",
      "x is currently:  9\n",
      " x is still less than 10, adding 1 to x\n"
     ]
    }
   ],
   "source": [
    "x = 0\n",
    "\n",
    "while x < 10:\n",
    "    print('x is currently: ',x)\n",
    "    print(' x is still less than 10, adding 1 to x')\n",
    "    x+=1"
   ]
  },
  {
   "cell_type": "code",
   "execution_count": 2,
   "metadata": {},
   "outputs": [
    {
     "name": "stdout",
     "output_type": "stream",
     "text": [
      "x is: 10\n",
      "new x is: 11\n",
      "x is: 11\n",
      "new x is: 12\n",
      "x is: 12\n",
      "new x is: 13\n",
      "x is: 13\n",
      "new x is: 14\n",
      "x is: 14\n",
      "new x is: 15\n",
      "x is: 15\n",
      "new x is: 16\n",
      "x is: 16\n",
      "new x is: 17\n",
      "x is: 17\n",
      "new x is: 18\n",
      "x is: 18\n",
      "new x is: 19\n",
      "x is: 19\n",
      "new x is: 20\n"
     ]
    }
   ],
   "source": [
    "x = 10\n",
    "while x < 20:\n",
    "    print('x is:',x)\n",
    "    x+=1\n",
    "    print('new x is:',x)\n",
    "    \n",
    "    "
   ]
  },
  {
   "cell_type": "code",
   "execution_count": 3,
   "metadata": {},
   "outputs": [
    {
     "name": "stdout",
     "output_type": "stream",
     "text": [
      "y is less than 20 :  0\n",
      "y is still less than 20, adding 1 to y\n",
      "y is less than 20 :  1\n",
      "y is still less than 20, adding 1 to y\n",
      "y is less than 20 :  2\n",
      "y is still less than 20, adding 1 to y\n",
      "y is less than 20 :  3\n",
      "y is still less than 20, adding 1 to y\n",
      "y is less than 20 :  4\n",
      "y is still less than 20, adding 1 to y\n",
      "y is less than 20 :  5\n",
      "y is still less than 20, adding 1 to y\n",
      "y is less than 20 :  6\n",
      "y is still less than 20, adding 1 to y\n",
      "y is less than 20 :  7\n",
      "y is still less than 20, adding 1 to y\n",
      "y is less than 20 :  8\n",
      "y is still less than 20, adding 1 to y\n",
      "y is less than 20 :  9\n",
      "y is still less than 20, adding 1 to y\n",
      "y is less than 20 :  10\n",
      "y is still less than 20, adding 1 to y\n",
      "y is less than 20 :  11\n",
      "y is still less than 20, adding 1 to y\n",
      "y is less than 20 :  12\n",
      "y is still less than 20, adding 1 to y\n",
      "y is less than 20 :  13\n",
      "y is still less than 20, adding 1 to y\n",
      "y is less than 20 :  14\n",
      "y is still less than 20, adding 1 to y\n",
      "y is less than 20 :  15\n",
      "y is still less than 20, adding 1 to y\n",
      "y is less than 20 :  16\n",
      "y is still less than 20, adding 1 to y\n",
      "y is less than 20 :  17\n",
      "y is still less than 20, adding 1 to y\n",
      "y is less than 20 :  18\n",
      "y is still less than 20, adding 1 to y\n",
      "y is less than 20 :  19\n",
      "y is still less than 20, adding 1 to y\n"
     ]
    }
   ],
   "source": [
    "y = 0\n",
    "\n",
    "while y < 20:\n",
    "    print('y is less than 20 : ',y)\n",
    "    print('y is still less than 20, adding 1 to y')\n",
    "    y+=1"
   ]
  },
  {
   "cell_type": "code",
   "execution_count": 4,
   "metadata": {},
   "outputs": [
    {
     "name": "stdout",
     "output_type": "stream",
     "text": [
      "x is currently:  0\n",
      "x is still less than 10, adding 1 to x\n",
      "x is currently:  1\n",
      "x is still less than 10, adding 1 to x\n",
      "x is currently:  2\n",
      "x is still less than 10, adding 1 to x\n",
      "x is currently:  3\n",
      "x is still less than 10, adding 1 to x\n",
      "x is currently:  4\n",
      "x is still less than 10, adding 1 to x\n",
      "x is currently:  5\n",
      "x is still less than 10, adding 1 to x\n",
      "x is currently:  6\n",
      "x is still less than 10, adding 1 to x\n",
      "x is currently:  7\n",
      "x is still less than 10, adding 1 to x\n",
      "x is currently:  8\n",
      "x is still less than 10, adding 1 to x\n",
      "x is currently:  9\n",
      "x is still less than 10, adding 1 to x\n"
     ]
    }
   ],
   "source": [
    "x = 0\n",
    "\n",
    "while x < 10:\n",
    "    print('x is currently: ',x)\n",
    "    print('x is still less than 10, adding 1 to x')\n",
    "    x+=1"
   ]
  },
  {
   "cell_type": "markdown",
   "metadata": {},
   "source": [
    "Notice how many times the print statements occurred and how the <code>while</code> loop kept going until the True condition was met, which occurred once x==10. It's important to note that once this occurred the code stopped. Let's see how we could add an <code>else</code> statement:"
   ]
  },
  {
   "cell_type": "code",
   "execution_count": 2,
   "metadata": {},
   "outputs": [
    {
     "name": "stdout",
     "output_type": "stream",
     "text": [
      "x is currently:  0\n",
      " x is still less than 10, adding 1 to x\n",
      "x is currently:  1\n",
      " x is still less than 10, adding 1 to x\n",
      "x is currently:  2\n",
      " x is still less than 10, adding 1 to x\n",
      "x is currently:  3\n",
      " x is still less than 10, adding 1 to x\n",
      "x is currently:  4\n",
      " x is still less than 10, adding 1 to x\n",
      "x is currently:  5\n",
      " x is still less than 10, adding 1 to x\n",
      "x is currently:  6\n",
      " x is still less than 10, adding 1 to x\n",
      "x is currently:  7\n",
      " x is still less than 10, adding 1 to x\n",
      "x is currently:  8\n",
      " x is still less than 10, adding 1 to x\n",
      "x is currently:  9\n",
      " x is still less than 10, adding 1 to x\n",
      "All Done!\n"
     ]
    }
   ],
   "source": [
    "x = 0\n",
    "\n",
    "while x < 10:\n",
    "    print('x is currently: ',x)\n",
    "    print(' x is still less than 10, adding 1 to x')\n",
    "    x+=1\n",
    "    \n",
    "else:\n",
    "    print('All Done!')"
   ]
  },
  {
   "cell_type": "code",
   "execution_count": 6,
   "metadata": {},
   "outputs": [
    {
     "name": "stdout",
     "output_type": "stream",
     "text": [
      " x is currently: 0\n",
      "now value of x is: 1\n",
      " x is currently: 1\n",
      "now value of x is: 2\n",
      " x is currently: 2\n",
      "now value of x is: 3\n",
      " x is currently: 3\n",
      "now value of x is: 4\n",
      " x is currently: 4\n",
      "now value of x is: 5\n",
      " x is currently: 5\n",
      "now value of x is: 6\n",
      " x is currently: 6\n",
      "now value of x is: 7\n",
      " x is currently: 7\n",
      "now value of x is: 8\n",
      " x is currently: 8\n",
      "now value of x is: 9\n",
      " x is currently: 9\n",
      "now value of x is: 10\n",
      " x is currently: 10\n",
      "now value of x is: 11\n",
      " x is currently: 11\n",
      "now value of x is: 12\n",
      " x is currently: 12\n",
      "now value of x is: 13\n",
      " x is currently: 13\n",
      "now value of x is: 14\n",
      " x is currently: 14\n",
      "now value of x is: 15\n",
      " x is currently: 15\n",
      "now value of x is: 16\n",
      " x is currently: 16\n",
      "now value of x is: 17\n",
      " x is currently: 17\n",
      "now value of x is: 18\n",
      " x is currently: 18\n",
      "now value of x is: 19\n",
      " x is currently: 19\n",
      "now value of x is: 20\n",
      "the code has completed\n"
     ]
    }
   ],
   "source": [
    "x=0\n",
    "while x < 20:\n",
    "    print(' x is currently:',x)\n",
    "    x+=1\n",
    "    print('now value of x is:',x)\n",
    "else:\n",
    "    print(\"the code has completed\")"
   ]
  },
  {
   "cell_type": "code",
   "execution_count": 17,
   "metadata": {},
   "outputs": [
    {
     "name": "stdout",
     "output_type": "stream",
     "text": [
      "y is less than 20 :  0\n",
      "y is still less than 20, adding 1 to y\n",
      "y is less than 20 :  1\n",
      "y is still less than 20, adding 1 to y\n",
      "y is less than 20 :  2\n",
      "y is still less than 20, adding 1 to y\n",
      "y is less than 20 :  3\n",
      "y is still less than 20, adding 1 to y\n",
      "y is less than 20 :  4\n",
      "y is still less than 20, adding 1 to y\n",
      "y is less than 20 :  5\n",
      "y is still less than 20, adding 1 to y\n",
      "y is less than 20 :  6\n",
      "y is still less than 20, adding 1 to y\n",
      "y is less than 20 :  7\n",
      "y is still less than 20, adding 1 to y\n",
      "y is less than 20 :  8\n",
      "y is still less than 20, adding 1 to y\n",
      "y is less than 20 :  9\n",
      "y is still less than 20, adding 1 to y\n",
      "y is less than 20 :  10\n",
      "y is still less than 20, adding 1 to y\n",
      "y is less than 20 :  11\n",
      "y is still less than 20, adding 1 to y\n",
      "y is less than 20 :  12\n",
      "y is still less than 20, adding 1 to y\n",
      "y is less than 20 :  13\n",
      "y is still less than 20, adding 1 to y\n",
      "y is less than 20 :  14\n",
      "y is still less than 20, adding 1 to y\n",
      "y is less than 20 :  15\n",
      "y is still less than 20, adding 1 to y\n",
      "y is less than 20 :  16\n",
      "y is still less than 20, adding 1 to y\n",
      "y is less than 20 :  17\n",
      "y is still less than 20, adding 1 to y\n",
      "y is less than 20 :  18\n",
      "y is still less than 20, adding 1 to y\n",
      "y is less than 20 :  19\n",
      "y is still less than 20, adding 1 to y\n",
      "All prints done\n"
     ]
    }
   ],
   "source": [
    "y = 0\n",
    "\n",
    "while y < 20:\n",
    "    print('y is less than 20 : ',y)\n",
    "    print('y is still less than 20, adding 1 to y')\n",
    "    y+=1\n",
    "else :\n",
    "    print(\"All prints done\")"
   ]
  },
  {
   "cell_type": "markdown",
   "metadata": {},
   "source": [
    "# break, continue, pass\n",
    "\n",
    "We can use <code>break</code>, <code>continue</code>, and <code>pass</code> statements in our loops to add additional functionality for various cases. The three statements are defined by:\n",
    "\n",
    "    break: Breaks out of the current closest enclosing loop.\n",
    "    continue: Goes to the top of the closest enclosing loop.\n",
    "    pass: Does nothing at all.\n",
    "    \n",
    "    \n",
    "Thinking about <code>break</code> and <code>continue</code> statements, the general format of the <code>while</code> loop looks like this:\n",
    "\n",
    "    while test: \n",
    "        code statement\n",
    "        if test: \n",
    "            break\n",
    "        if test: \n",
    "            continue \n",
    "    else:\n",
    "\n",
    "<code>break</code> and <code>continue</code> statements can appear anywhere inside the loop’s body, but we will usually put them further nested in conjunction with an <code>if</code> statement to perform an action based on some condition.\n",
    "\n",
    "Let's go ahead and look at some examples!"
   ]
  },
  {
   "cell_type": "code",
   "execution_count": 3,
   "metadata": {},
   "outputs": [
    {
     "name": "stdout",
     "output_type": "stream",
     "text": [
      "x is currently:  0\n",
      " x is still less than 10, adding 1 to x\n",
      "continuing...\n",
      "x is currently:  1\n",
      " x is still less than 10, adding 1 to x\n",
      "continuing...\n",
      "x is currently:  2\n",
      " x is still less than 10, adding 1 to x\n",
      "x==3\n",
      "x is currently:  3\n",
      " x is still less than 10, adding 1 to x\n",
      "continuing...\n",
      "x is currently:  4\n",
      " x is still less than 10, adding 1 to x\n",
      "continuing...\n",
      "x is currently:  5\n",
      " x is still less than 10, adding 1 to x\n",
      "continuing...\n",
      "x is currently:  6\n",
      " x is still less than 10, adding 1 to x\n",
      "continuing...\n",
      "x is currently:  7\n",
      " x is still less than 10, adding 1 to x\n",
      "continuing...\n",
      "x is currently:  8\n",
      " x is still less than 10, adding 1 to x\n",
      "continuing...\n",
      "x is currently:  9\n",
      " x is still less than 10, adding 1 to x\n",
      "continuing...\n"
     ]
    }
   ],
   "source": [
    "x = 0\n",
    "\n",
    "while x < 10:\n",
    "    print('x is currently: ',x)\n",
    "    print(' x is still less than 10, adding 1 to x')\n",
    "    x+=1\n",
    "    if x==3:\n",
    "        print('x==3')\n",
    "    else:\n",
    "        print('continuing...')\n",
    "        continue"
   ]
  },
  {
   "cell_type": "code",
   "execution_count": 12,
   "metadata": {},
   "outputs": [
    {
     "name": "stdout",
     "output_type": "stream",
     "text": [
      "The value of x is: 0\n",
      "The value of x is still less than 20, adding 2 to x\n",
      "continue to next numbers\n",
      "The value of x is: 2\n",
      "The value of x is still less than 20, adding 2 to x\n",
      "continue to next numbers\n",
      "The value of x is: 4\n",
      "The value of x is still less than 20, adding 2 to x\n",
      "continue to next numbers\n",
      "The value of x is: 6\n",
      "The value of x is still less than 20, adding 2 to x\n",
      "continue to next numbers\n",
      "The value of x is: 8\n",
      "The value of x is still less than 20, adding 2 to x\n",
      "we are half way through\n",
      "The value of x is: 10\n",
      "The value of x is still less than 20, adding 2 to x\n",
      "continue to next numbers\n",
      "The value of x is: 12\n",
      "The value of x is still less than 20, adding 2 to x\n",
      "continue to next numbers\n",
      "The value of x is: 14\n",
      "The value of x is still less than 20, adding 2 to x\n",
      "continue to next numbers\n",
      "The value of x is: 16\n",
      "The value of x is still less than 20, adding 2 to x\n",
      "continue to next numbers\n",
      "The value of x is: 18\n",
      "The value of x is still less than 20, adding 2 to x\n",
      "continue to next numbers\n"
     ]
    }
   ],
   "source": [
    "x = 0\n",
    "while x < 20:\n",
    "    print('The value of x is:',x)\n",
    "    print('The value of x is still less than 20, adding 2 to x')\n",
    "    x+=2\n",
    "    if x==10:\n",
    "        print(\"we are half way through\")\n",
    "    else:\n",
    "        print(\"continue to next numbers\")\n",
    "        continue"
   ]
  },
  {
   "cell_type": "code",
   "execution_count": 22,
   "metadata": {},
   "outputs": [
    {
     "name": "stdout",
     "output_type": "stream",
     "text": [
      "y is less than 20 :  0\n",
      "y is still less than 20, adding 1 to y\n",
      "let me continue\n",
      "y is less than 20 :  1\n",
      "y is still less than 20, adding 1 to y\n",
      "let me continue\n",
      "y is less than 20 :  2\n",
      "y is still less than 20, adding 1 to y\n",
      "let me continue\n",
      "y is less than 20 :  3\n",
      "y is still less than 20, adding 1 to y\n",
      "let me continue\n",
      "y is less than 20 :  4\n",
      "y is still less than 20, adding 1 to y\n",
      "y == 5\n",
      "y is less than 20 :  5\n",
      "y is still less than 20, adding 1 to y\n",
      "let me continue\n",
      "y is less than 20 :  6\n",
      "y is still less than 20, adding 1 to y\n",
      "let me continue\n",
      "y is less than 20 :  7\n",
      "y is still less than 20, adding 1 to y\n",
      "let me continue\n",
      "y is less than 20 :  8\n",
      "y is still less than 20, adding 1 to y\n",
      "let me continue\n",
      "y is less than 20 :  9\n",
      "y is still less than 20, adding 1 to y\n",
      "let me continue\n",
      "y is less than 20 :  10\n",
      "y is still less than 20, adding 1 to y\n",
      "let me continue\n",
      "y is less than 20 :  11\n",
      "y is still less than 20, adding 1 to y\n",
      "let me continue\n",
      "y is less than 20 :  12\n",
      "y is still less than 20, adding 1 to y\n",
      "let me continue\n",
      "y is less than 20 :  13\n",
      "y is still less than 20, adding 1 to y\n",
      "let me continue\n",
      "y is less than 20 :  14\n",
      "y is still less than 20, adding 1 to y\n",
      "let me continue\n",
      "y is less than 20 :  15\n",
      "y is still less than 20, adding 1 to y\n",
      "let me continue\n",
      "y is less than 20 :  16\n",
      "y is still less than 20, adding 1 to y\n",
      "let me continue\n",
      "y is less than 20 :  17\n",
      "y is still less than 20, adding 1 to y\n",
      "let me continue\n",
      "y is less than 20 :  18\n",
      "y is still less than 20, adding 1 to y\n",
      "let me continue\n",
      "y is less than 20 :  19\n",
      "y is still less than 20, adding 1 to y\n",
      "let me continue\n"
     ]
    }
   ],
   "source": [
    "y = 0\n",
    "\n",
    "while y < 20:\n",
    "    print('y is less than 20 : ',y)\n",
    "    print('y is still less than 20, adding 1 to y')\n",
    "    y+=1\n",
    "    if y == 5:\n",
    "        print(\"y == 5\")\n",
    "    else :\n",
    "        print(\"let me continue\")\n",
    "    continue"
   ]
  },
  {
   "cell_type": "markdown",
   "metadata": {},
   "source": [
    "Note how we have a printed statement when x==3, and a continue being printed out as we continue through the outer while loop. Let's put in a break once x ==3 and see if the result makes sense:"
   ]
  },
  {
   "cell_type": "code",
   "execution_count": 23,
   "metadata": {},
   "outputs": [
    {
     "name": "stdout",
     "output_type": "stream",
     "text": [
      "x is currently:  0\n",
      " x is still less than 10, adding 1 to x\n",
      "continuing...\n",
      "x is currently:  1\n",
      " x is still less than 10, adding 1 to x\n",
      "continuing...\n",
      "x is currently:  2\n",
      " x is still less than 10, adding 1 to x\n",
      "Breaking because x==3\n"
     ]
    }
   ],
   "source": [
    "x = 0\n",
    "\n",
    "while x < 10:\n",
    "    print('x is currently: ',x)\n",
    "    print(' x is still less than 10, adding 1 to x')\n",
    "    x+=1\n",
    "    if x==3:\n",
    "        print('Breaking because x==3')\n",
    "        break\n",
    "    else:\n",
    "        print('continuing...')\n",
    "        continue"
   ]
  },
  {
   "cell_type": "code",
   "execution_count": 24,
   "metadata": {},
   "outputs": [
    {
     "name": "stdout",
     "output_type": "stream",
     "text": [
      "y is less than 20 :  0\n",
      "y is still less than 20, adding 1 to y\n",
      "some prints are still left\n",
      "y is less than 20 :  1\n",
      "y is still less than 20, adding 1 to y\n",
      "some prints are still left\n",
      "y is less than 20 :  2\n",
      "y is still less than 20, adding 1 to y\n",
      "some prints are still left\n",
      "y is less than 20 :  3\n",
      "y is still less than 20, adding 1 to y\n",
      "We have found 4\n"
     ]
    }
   ],
   "source": [
    "y = 0\n",
    "\n",
    "while y < 20:\n",
    "    print('y is less than 20 : ',y)\n",
    "    print('y is still less than 20, adding 1 to y')\n",
    "    y+=1\n",
    "    if y==4:\n",
    "        print(\"We have found 4\")\n",
    "        break\n",
    "    else :\n",
    "        print(\"some prints are still left\")\n",
    "    continue"
   ]
  },
  {
   "cell_type": "markdown",
   "metadata": {},
   "source": [
    "Note how the other <code>else</code> statement wasn't reached and continuing was never printed!\n",
    "\n",
    "After these brief but simple examples, you should feel comfortable using <code>while</code> statements in your code.\n",
    "\n",
    "**A word of caution however! It is possible to create an infinitely running loop with <code>while</code> statements. For example:**"
   ]
  },
  {
   "cell_type": "code",
   "execution_count": null,
   "metadata": {
    "collapsed": true
   },
   "outputs": [],
   "source": [
    "# DO NOT RUN THIS CODE!!!! \n",
    "while True:\n",
    "    print(\"I'm stuck in an infinite loop!\")"
   ]
  },
  {
   "cell_type": "markdown",
   "metadata": {
    "collapsed": true
   },
   "source": [
    "A quick note: If you *did* run the above cell, click on the Kernel menu above to restart the kernel!"
   ]
  }
 ],
 "metadata": {
  "kernelspec": {
   "display_name": "Python 3",
   "language": "python",
   "name": "python3"
  },
  "language_info": {
   "codemirror_mode": {
    "name": "ipython",
    "version": 3
   },
   "file_extension": ".py",
   "mimetype": "text/x-python",
   "name": "python",
   "nbconvert_exporter": "python",
   "pygments_lexer": "ipython3",
   "version": "3.8.8"
  }
 },
 "nbformat": 4,
 "nbformat_minor": 1
}
